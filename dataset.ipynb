{
 "cells": [
  {
   "cell_type": "code",
   "execution_count": 1,
   "id": "7f162114-2c02-4a3a-821a-2c6ed9172448",
   "metadata": {},
   "outputs": [
    {
     "name": "stdout",
     "output_type": "stream",
     "text": [
      "Sample dataset (First array with values between 0 and 1):\n",
      " [0.77553693 0.91724235 0.06363541 ... 0.98102529 0.06738987 0.27945145]\n",
      "\n",
      "Dataset shape: (301, 98796)\n"
     ]
    }
   ],
   "source": [
    "import numpy as np\n",
    "\n",
    "\n",
    "n_samples = 301       \n",
    "n_elements = 98796     \n",
    "\n",
    "\n",
    "dataset = np.random.rand(n_samples, n_elements)\n",
    "\n",
    "\n",
    "print(\"Sample dataset (First array with values between 0 and 1):\\n\", dataset[0])\n",
    "\n",
    "\n",
    "print(\"\\nDataset shape:\", dataset.shape)"
   ]
  },
  {
   "cell_type": "code",
   "execution_count": 2,
   "id": "b00f95bb-fcc4-4e29-9642-6534e0ff2ab4",
   "metadata": {},
   "outputs": [
    {
     "name": "stdout",
     "output_type": "stream",
     "text": [
      "LSTM-ready dataset shape: (301, 98796, 1)\n"
     ]
    }
   ],
   "source": [
    "\n",
    "dataset_lstm_ready = dataset.reshape((n_samples, n_elements, 1))\n",
    "\n",
    "\n",
    "print(\"LSTM-ready dataset shape:\", dataset_lstm_ready.shape)\n"
   ]
  },
  {
   "cell_type": "code",
   "execution_count": null,
   "id": "28cbdc57-0165-4e31-8a86-0a45f0d2315b",
   "metadata": {},
   "outputs": [],
   "source": [
    "pip install numpy tensorflow keras scikit-learn\n"
   ]
  },
  {
   "cell_type": "code",
   "execution_count": 4,
   "id": "3279daa2-3608-4426-a272-533aaf32a65a",
   "metadata": {
    "scrolled": true
   },
   "outputs": [
    {
     "name": "stdout",
     "output_type": "stream",
     "text": [
      "Epoch 1/2\n"
     ]
    },
    {
     "name": "stderr",
     "output_type": "stream",
     "text": [
      "/Library/Frameworks/Python.framework/Versions/3.12/lib/python3.12/site-packages/keras/src/layers/rnn/rnn.py:204: UserWarning: Do not pass an `input_shape`/`input_dim` argument to a layer. When using Sequential models, prefer using an `Input(shape)` object as the first layer in the model instead.\n",
      "  super().__init__(**kwargs)\n"
     ]
    },
    {
     "name": "stdout",
     "output_type": "stream",
     "text": [
      "\u001b[1m8/8\u001b[0m \u001b[32m━━━━━━━━━━━━━━━━━━━━\u001b[0m\u001b[37m\u001b[0m \u001b[1m206s\u001b[0m 26s/step - loss: 1.1814 - mae: 0.8879 - val_loss: 1.1912 - val_mae: 0.8009\n",
      "Epoch 2/2\n",
      "\u001b[1m8/8\u001b[0m \u001b[32m━━━━━━━━━━━━━━━━━━━━\u001b[0m\u001b[37m\u001b[0m \u001b[1m1135s\u001b[0m 160s/step - loss: 1.1883 - mae: 0.9022 - val_loss: 1.1978 - val_mae: 0.8020\n",
      "\u001b[1m2/2\u001b[0m \u001b[32m━━━━━━━━━━━━━━━━━━━━\u001b[0m\u001b[37m\u001b[0m \u001b[1m4s\u001b[0m 2s/step - loss: 1.0111 - mae: 0.7300\n",
      "Validation Loss: 1.1977784633636475, Validation MAE: 0.8020176887512207\n"
     ]
    }
   ],
   "source": [
    "import numpy as np\n",
    "from tensorflow.keras.models import Sequential\n",
    "from tensorflow.keras.layers import LSTM, Dense, Dropout\n",
    "from sklearn.model_selection import train_test_split\n",
    "\n",
    "#  Generate the dataset as discussed\n",
    "n_samples = 301        # Number of arrays (samples)\n",
    "n_elements = 98796      # Length of each array (timesteps)\n",
    "\n",
    "# For simplicity, we'll use the random dataset again\n",
    "dataset = np.random.randn(n_samples, n_elements)\n",
    "dataset_lstm_ready = dataset.reshape((n_samples, n_elements, 1))\n",
    "\n",
    "#  Define target values (for regression or any task)\n",
    "# Since this is a synthetic example, we'll create random target values for regression\n",
    "targets = np.random.randn(n_samples)\n",
    "\n",
    "# 3. Split the data into training and validation sets\n",
    "X_train, X_val, y_train, y_val = train_test_split(dataset_lstm_ready, targets, test_size=0.2, random_state=42)\n",
    "\n",
    "# 4. Define the LSTM model\n",
    "model = Sequential()\n",
    "\n",
    "# Add an LSTM layer (adjust the number of units as needed)\n",
    "model.add(LSTM(50, return_sequences=False, input_shape=(n_elements, 1)))\n",
    "\n",
    "# Add dropout to prevent overfitting\n",
    "model.add(Dropout(0.2))\n",
    "\n",
    "# Add a dense output layer (for regression, typically one output neuron)\n",
    "model.add(Dense(1))  # For regression, a single neuron with a linear activation\n",
    "\n",
    "#  Compile the model (use MSE for regression)\n",
    "model.compile(optimizer='adam', loss='mean_squared_error', metrics=['mae'])  # MAE = Mean Absolute Error\n",
    "\n",
    "#  Train the model\n",
    "history = model.fit(X_train, y_train, validation_data=(X_val, y_val), epochs=2, batch_size=32)\n",
    "\n",
    "#  Evaluate the model performance\n",
    "loss, mae = model.evaluate(X_val, y_val)\n",
    "print(f'Validation Loss: {loss}, Validation MAE: {mae}')\n"
   ]
  },
  {
   "cell_type": "code",
   "execution_count": 4,
   "id": "e38d9f95-0da3-437f-a657-445ee7504b77",
   "metadata": {
    "scrolled": true
   },
   "outputs": [
    {
     "name": "stdout",
     "output_type": "stream",
     "text": [
      "Epoch 1/2\n"
     ]
    },
    {
     "name": "stderr",
     "output_type": "stream",
     "text": [
      "/Library/Frameworks/Python.framework/Versions/3.12/lib/python3.12/site-packages/keras/src/layers/rnn/rnn.py:204: UserWarning: Do not pass an `input_shape`/`input_dim` argument to a layer. When using Sequential models, prefer using an `Input(shape)` object as the first layer in the model instead.\n",
      "  super().__init__(**kwargs)\n"
     ]
    },
    {
     "name": "stdout",
     "output_type": "stream",
     "text": [
      "\u001b[1m8/8\u001b[0m \u001b[32m━━━━━━━━━━━━━━━━━━━━\u001b[0m\u001b[37m\u001b[0m \u001b[1m206s\u001b[0m 26s/step - loss: 1.1814 - mae: 0.8879 - val_loss: 1.1912 - val_mae: 0.8009\n",
      "Epoch 2/2\n",
      "\u001b[1m8/8\u001b[0m \u001b[32m━━━━━━━━━━━━━━━━━━━━\u001b[0m\u001b[37m\u001b[0m \u001b[1m1135s\u001b[0m 160s/step - loss: 1.1883 - mae: 0.9022 - val_loss: 1.1978 - val_mae: 0.8020\n",
      "\u001b[1m2/2\u001b[0m \u001b[32m━━━━━━━━━━━━━━━━━━━━\u001b[0m\u001b[37m\u001b[0m \u001b[1m4s\u001b[0m 2s/step - loss: 1.0111 - mae: 0.7300\n",
      "Validation Loss: 1.1977784633636475, Validation MAE: 0.8020176887512207\n"
     ]
    }
   ],
   "source": [
    "import numpy as np\n",
    "from tensorflow.keras.models import Sequential\n",
    "from tensorflow.keras.layers import LSTM, Dense, Dropout\n",
    "from sklearn.model_selection import train_test_split\n",
    "\n",
    "# 1. Generate the dataset as discussed\n",
    "n_samples = 301        # Number of arrays (samples)\n",
    "n_elements = 98796      # Length of each array (timesteps)\n",
    "\n",
    "# For simplicity, we'll use the random dataset again\n",
    "dataset = np.random.randn(n_samples, n_elements)\n",
    "dataset_lstm_ready = dataset.reshape((n_samples, n_elements, 1))\n",
    "\n",
    "# 2. Define target values (for regression or any task)\n",
    "# Since this is a synthetic example, we'll create random target values for regression\n",
    "targets = np.random.randn(n_samples)\n",
    "\n",
    "# 3. Split the data into training and validation sets\n",
    "X_train, X_val, y_train, y_val = train_test_split(dataset_lstm_ready, targets, test_size=0.2, random_state=42)\n",
    "\n",
    "# 4. Define the LSTM model\n",
    "model = Sequential()\n",
    "\n",
    "# Add an LSTM layer (adjust the number of units as needed)\n",
    "model.add(LSTM(50, return_sequences=False, input_shape=(n_elements, 1)))\n",
    "\n",
    "# Add dropout to prevent overfitting\n",
    "model.add(Dropout(0.2))\n",
    "\n",
    "# Add a dense output layer (for regression, typically one output neuron)\n",
    "model.add(Dense(1))  # For regression, a single neuron with a linear activation\n",
    "\n",
    "# 5. Compile the model (use MSE for regression)\n",
    "model.compile(optimizer='adam', loss='mean_squared_error', metrics=['mae'])  # MAE = Mean Absolute Error\n",
    "\n",
    "# 6. Train the model\n",
    "history = model.fit(X_train, y_train, validation_data=(X_val, y_val), epochs=2, batch_size=32)\n",
    "\n",
    "# 7. Evaluate the model performance\n",
    "loss, mae = model.evaluate(X_val, y_val)\n",
    "print(f'Validation Loss: {loss}, Validation MAE: {mae}')\n"
   ]
  },
  {
   "cell_type": "code",
   "execution_count": 5,
   "id": "3d6f60dc-e648-4e84-b0db-2795cc0e7480",
   "metadata": {},
   "outputs": [
    {
     "data": {
      "image/png": "[encoded data removed]",
      "text/plain": [
       "<Figure size 640x480 with 1 Axes>"
      ]
     },
     "metadata": {},
     "output_type": "display_data"
    }
   ],
   "source": [
    " import matplotlib.pyplot as plt\n",
    "\n",
    "# Plot loss curves\n",
    "plt.plot(history.history['loss'], label='train')\n",
    "plt.plot(history.history['val_loss'], label='validation')\n",
    "plt.title('Loss Curves')\n",
    "plt.xlabel('Epochs')\n",
    "plt.ylabel('Loss')\n",
    "plt.legend()\n",
    "plt.show()\n",
    "\n",
    "\n"
   ]
  },
  {
   "cell_type": "code",
   "execution_count": null,
   "id": "2d93e67f-f4bf-484a-ad05-e8174e9dc061",
   "metadata": {},
   "outputs": [],
   "source": []
  }
 ],
 "metadata": {
  "kernelspec": {
   "display_name": "Python 3 (ipykernel)",
   "language": "python",
   "name": "python3"
  },
  "language_info": {
   "codemirror_mode": {
    "name": "ipython",
    "version": 3
   },
   "file_extension": ".py",
   "mimetype": "text/x-python",
   "name": "python",
   "nbconvert_exporter": "python",
   "pygments_lexer": "ipython3",
   "version": "3.12.6"
  }
 },
 "nbformat": 4,
 "nbformat_minor": 5
}
